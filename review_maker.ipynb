{
 "cells": [
  {
   "cell_type": "code",
   "execution_count": 1,
   "id": "c4e7d918",
   "metadata": {},
   "outputs": [],
   "source": [
    "import numpy\n",
    "import pandas\n",
    "import nltk\n",
    "import sys\n",
    "import mysecrets"
   ]
  },
  {
   "cell_type": "markdown",
   "id": "66b2db45",
   "metadata": {},
   "source": [
    "<h1> Get positive and negative words from NRC Emotion Lexicon </h1>"
   ]
  },
  {
   "cell_type": "code",
   "execution_count": 22,
   "id": "13a0d9aa",
   "metadata": {},
   "outputs": [],
   "source": [
    "def get_nrc_data(emotion):\n",
    "    nrc = \"/Users/rohankulkarni/nltk_data/NRC-Emotion-Lexicon/OneFilePerEmotion/\"+ emotion +\"-NRC-Emotion-Lexicon.txt\" \n",
    "\n",
    "    \n",
    "    f = open(nrc,'r')\n",
    "    words = [word.split('\\t')[0] for i, word in enumerate(f)]\n",
    "\n",
    "    return words\n"
   ]
  },
  {
   "cell_type": "code",
   "execution_count": 23,
   "id": "2a58502b",
   "metadata": {},
   "outputs": [],
   "source": [
    "pos = get_nrc_data(\"positive\")\n",
    "neg = get_nrc_data(\"negative\")"
   ]
  },
  {
   "cell_type": "markdown",
   "id": "39bbbf14",
   "metadata": {},
   "source": [
    "<h1> Use Yelp API to get sample reviews </h1>"
   ]
  },
  {
   "cell_type": "code",
   "execution_count": 5,
   "id": "c03855d9",
   "metadata": {},
   "outputs": [],
   "source": [
    "yelp_client_id = mysecrets.yelp_client_id\n",
    "yelp_api_key = mysecrets.yelp_api_key"
   ]
  },
  {
   "cell_type": "code",
   "execution_count": 6,
   "id": "f44d40cf",
   "metadata": {},
   "outputs": [],
   "source": [
    "API_HOST = 'https://api.yelp.com' #The API url header\n",
    "SEARCH_PATH = '/v3/businesses/search' #The path for an API request to find businesses\n",
    "BUSINESS_PATH = '/v3/businesses/'  # The path to get data for a single business\n"
   ]
  },
  {
   "cell_type": "code",
   "execution_count": 35,
   "id": "3d187801",
   "metadata": {},
   "outputs": [
    {
     "data": {
      "text/plain": [
       "[('ANG7pXCpE1iPzDSsB-abwg', 'The Meeting House'),\n",
       " ('SgXxGCzsf5xhEo5mYpBHEw', 'Agricola Eatery'),\n",
       " ('ytvXEa1BdgdMQPOGANLBCQ', 'The Dinky Bar & Kitchen'),\n",
       " ('aA3pwxdS76TCPskajGj_Qg', 'Mistral'),\n",
       " ('3g-OXwOHASK8bCuInOfNKg', 'Blue Point Grill'),\n",
       " ('K08kXfrLkM6A7Zixwb5ljQ', 'Roots Ocean Prime'),\n",
       " ('wFXwhiQ3Hp2SsJb-iNG4BA', 'Elements'),\n",
       " ('h27I0U_S4TPm3zwvZtbnJA', 'Laurea Restaurant'),\n",
       " ('0YkXhcfpFHuYw_33Iq9kgQ', 'The Perch At Peacock Inn'),\n",
       " ('LxL23QJGTuiNW_lfE1mn8Q', 'Local Greek'),\n",
       " ('4CXO92H2UsgSI4koZNTBQg', 'Salt Creek Grille'),\n",
       " ('zdj5iGqtqJmLBL1UFsa5mA', 'Lan Ramen'),\n",
       " ('rXy_19w4bAoyGImmZ4w23Q', 'Kristines'),\n",
       " ('mC0Oir4IMjMSzJGORIW6pw', 'Tacoria'),\n",
       " ('Q0hNFisTc8hm5t1sCVHB4A', 'Schouse')]"
      ]
     },
     "execution_count": 35,
     "metadata": {},
     "output_type": "execute_result"
    }
   ],
   "source": [
    "def get_restaurants(api_key,location,number=15):\n",
    "    import requests\n",
    "    \n",
    "     #Set up the search data dictionary. This contains the search parameters\n",
    "    search_data = {\n",
    "    'term': \"restaurant\",\n",
    "    'location': location.replace(' ', '+'),\n",
    "    'limit': number\n",
    "    }\n",
    "    \n",
    "    #Create the API url\n",
    "    url = API_HOST + SEARCH_PATH\n",
    "    \n",
    "    #The API Key data object\n",
    "    headers = {\n",
    "        'Authorization': 'Bearer %s' % api_key,\n",
    "    }\n",
    "    \n",
    "    #Get the response object and convert from JSON into a python list\n",
    "    response = requests.request('GET', url, headers=headers, params=search_data).json()\n",
    "    #print(response)\n",
    "    \n",
    "    #Extract the businesses from the response object\n",
    "    businesses = response.get('businesses')\n",
    "    \n",
    "    #Extract the business id and business name for each business into a list\n",
    "    return_data = [(business['id'],business['name']) for business in businesses]\n",
    "    return return_data\n",
    "\n",
    "get_restaurants(yelp_api_key,\"Princeton\",15)\n",
    "\n",
    "#Let's choose the restaurant: Tacoria mC0Oir4IMjMSzJGORIW6pw"
   ]
  },
  {
   "cell_type": "code",
   "execution_count": 36,
   "id": "2db70110",
   "metadata": {},
   "outputs": [],
   "source": [
    "taco = \"mC0Oir4IMjMSzJGORIW6pw\""
   ]
  },
  {
   "cell_type": "code",
   "execution_count": 37,
   "id": "811504f9",
   "metadata": {},
   "outputs": [
    {
     "data": {
      "text/plain": [
       "\"Fresh ingredients and a flavorful adventure is how I describe Tacoria.  \\nThe staff is always helpful and patient.  \\nI usually take out.What a disappointment! Are of the people there on downers? They all seem to have flatlined. No emotion, no affect. It's not like they could be tired from...Burritos here are sheer perfection. Stuffed with tasty meats, fresh veggies, cheese, and rice. It's bursting with flavor.  The warm toasted tortilla just...\""
      ]
     },
     "execution_count": 37,
     "metadata": {},
     "output_type": "execute_result"
    }
   ],
   "source": [
    "def get_business_review(api_key,business_id):\n",
    "    import requests\n",
    "    \n",
    "    #API path\n",
    "    business_path = BUSINESS_PATH + business_id+\"/reviews\"\n",
    "    \n",
    "    #API url\n",
    "    url = API_HOST + business_path\n",
    "\n",
    "    #API Key data object\n",
    "    headers = {\n",
    "        'Authorization': 'Bearer %s' % api_key,\n",
    "    }\n",
    "\n",
    "    #Get the response and convert from json into a python object\n",
    "    response = requests.request('GET', url, headers=headers).json()\n",
    "    #print(response)\n",
    "    \n",
    "    #Yelp gives review snippets of a few reviews, concatenate these into a single string\n",
    "    review_text = ''\n",
    "    for review in response['reviews']:\n",
    "        review_text += review['text']\n",
    "    return review_text\n",
    "\n",
    "get_business_review(yelp_api_key,taco)"
   ]
  },
  {
   "cell_type": "code",
   "execution_count": 11,
   "id": "675afd45",
   "metadata": {},
   "outputs": [],
   "source": [
    "import os\n",
    "\n",
    "import openai\n",
    "openai.api_key = mysecrets.key\n",
    "\n",
    "def get_res(p):\n",
    "    obj = openai.Completion.create(\n",
    "            model=\"text-davinci-003\",\n",
    "            prompt=p,\n",
    "            temperature=0.1,\n",
    "            max_tokens=1000\n",
    "        )\n",
    "    \n",
    "    return obj[\"choices\"][0][\"text\"].replace(\"\\n\", \"\")\n"
   ]
  },
  {
   "cell_type": "code",
   "execution_count": 15,
   "id": "457d8703",
   "metadata": {},
   "outputs": [
    {
     "data": {
      "text/plain": [
       "'I had the most delicious meal at this restaurant! The food was cooked to perfection and the flavors were amazing. I would highly recommend this place to anyone looking for a great dining experience.'"
      ]
     },
     "execution_count": 15,
     "metadata": {},
     "output_type": "execute_result"
    }
   ],
   "source": [
    "prompt = \"Make a positive review. Use the word: delicious\"\n",
    "get_res(prompt)"
   ]
  },
  {
   "cell_type": "code",
   "execution_count": null,
   "id": "ea5e7975",
   "metadata": {},
   "outputs": [],
   "source": []
  },
  {
   "cell_type": "code",
   "execution_count": null,
   "id": "a0dd07a0",
   "metadata": {},
   "outputs": [],
   "source": []
  },
  {
   "cell_type": "code",
   "execution_count": 92,
   "id": "9cb6dbc9",
   "metadata": {},
   "outputs": [],
   "source": [
    "#sample prompt\n",
    "\n",
    "def generate_prompt(animal):\n",
    "    return \"\"\"Suggest three names for an animal that is a superhero.\n",
    "\n",
    "Animal: Cat\n",
    "Names: Captain Sharpclaw, Agent Fluffball, The Incredible Feline\n",
    "Animal: Dog\n",
    "Names: Ruff the Protector, Wonder Canine, Sir Barks-a-Lot\n",
    "Animal: {}\n",
    "Names:\"\"\".format(\n",
    "        animal.capitalize()\n",
    "    )"
   ]
  },
  {
   "cell_type": "code",
   "execution_count": 93,
   "id": "8b183b5c",
   "metadata": {},
   "outputs": [
    {
     "data": {
      "text/plain": [
       "' Mighty Moo, Super Bovine, Udderly Amazing'"
      ]
     },
     "execution_count": 93,
     "metadata": {},
     "output_type": "execute_result"
    }
   ],
   "source": [
    "prompt = generate_prompt(\"cow\")\n",
    "get_res(prompt)"
   ]
  }
 ],
 "metadata": {
  "kernelspec": {
   "display_name": "Python 3 (ipykernel)",
   "language": "python",
   "name": "python3"
  },
  "language_info": {
   "codemirror_mode": {
    "name": "ipython",
    "version": 3
   },
   "file_extension": ".py",
   "mimetype": "text/x-python",
   "name": "python",
   "nbconvert_exporter": "python",
   "pygments_lexer": "ipython3",
   "version": "3.9.13"
  }
 },
 "nbformat": 4,
 "nbformat_minor": 5
}
