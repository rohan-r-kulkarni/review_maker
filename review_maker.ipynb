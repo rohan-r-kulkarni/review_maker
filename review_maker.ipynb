{
 "cells": [
  {
   "cell_type": "code",
   "execution_count": 158,
   "id": "c4e7d918",
   "metadata": {},
   "outputs": [],
   "source": [
    "import numpy\n",
    "import pandas\n",
    "import nltk\n",
    "import sys\n",
    "import mysecrets\n",
    "import random"
   ]
  },
  {
   "cell_type": "markdown",
   "id": "66b2db45",
   "metadata": {},
   "source": [
    "<h1> Get positive and negative words from NRC Emotion Lexicon </h1>"
   ]
  },
  {
   "cell_type": "code",
   "execution_count": 2,
   "id": "13a0d9aa",
   "metadata": {},
   "outputs": [],
   "source": [
    "def get_nrc_data(emotion):\n",
    "    nrc = \"/Users/rohankulkarni/nltk_data/NRC-Emotion-Lexicon/OneFilePerEmotion/\"+ emotion +\"-NRC-Emotion-Lexicon.txt\" \n",
    "\n",
    "    \n",
    "    f = open(nrc,'r')\n",
    "    words = [word.split('\\t')[0] for i, word in enumerate(f)]\n",
    "\n",
    "    return words\n"
   ]
  },
  {
   "cell_type": "code",
   "execution_count": 3,
   "id": "2a58502b",
   "metadata": {},
   "outputs": [],
   "source": [
    "pos = get_nrc_data(\"positive\")\n",
    "neg = get_nrc_data(\"negative\")"
   ]
  },
  {
   "cell_type": "markdown",
   "id": "39bbbf14",
   "metadata": {},
   "source": [
    "<h1> Use Yelp API to get sample reviews </h1>"
   ]
  },
  {
   "cell_type": "code",
   "execution_count": 4,
   "id": "c03855d9",
   "metadata": {},
   "outputs": [],
   "source": [
    "yelp_client_id = mysecrets.yelp_client_id\n",
    "yelp_api_key = mysecrets.yelp_api_key"
   ]
  },
  {
   "cell_type": "code",
   "execution_count": 5,
   "id": "f44d40cf",
   "metadata": {},
   "outputs": [],
   "source": [
    "API_HOST = 'https://api.yelp.com' #The API url header\n",
    "SEARCH_PATH = '/v3/businesses/search' #The path for an API request to find businesses\n",
    "BUSINESS_PATH = '/v3/businesses/'  # The path to get data for a single business\n"
   ]
  },
  {
   "cell_type": "code",
   "execution_count": 15,
   "id": "3d187801",
   "metadata": {},
   "outputs": [
    {
     "data": {
      "text/plain": [
       "[('ANG7pXCpE1iPzDSsB-abwg', 'The Meeting House'),\n",
       " ('SgXxGCzsf5xhEo5mYpBHEw', 'Agricola Eatery'),\n",
       " ('ytvXEa1BdgdMQPOGANLBCQ', 'The Dinky Bar & Kitchen'),\n",
       " ('aA3pwxdS76TCPskajGj_Qg', 'Mistral'),\n",
       " ('K08kXfrLkM6A7Zixwb5ljQ', 'Roots Ocean Prime'),\n",
       " ('3g-OXwOHASK8bCuInOfNKg', 'Blue Point Grill'),\n",
       " ('0YkXhcfpFHuYw_33Iq9kgQ', 'The Perch At Peacock Inn'),\n",
       " ('LxL23QJGTuiNW_lfE1mn8Q', 'Local Greek'),\n",
       " ('Q0hNFisTc8hm5t1sCVHB4A', 'Schouse'),\n",
       " ('BZ90gSrU0PdZTpGBaXYMUg', 'Witherspoon Grill'),\n",
       " ('4CXO92H2UsgSI4koZNTBQg', 'Salt Creek Grille'),\n",
       " ('zdj5iGqtqJmLBL1UFsa5mA', 'Lan Ramen'),\n",
       " ('mC0Oir4IMjMSzJGORIW6pw', 'Tacoria'),\n",
       " ('wFXwhiQ3Hp2SsJb-iNG4BA', 'Elements'),\n",
       " ('rXy_19w4bAoyGImmZ4w23Q', 'Kristines')]"
      ]
     },
     "execution_count": 15,
     "metadata": {},
     "output_type": "execute_result"
    }
   ],
   "source": [
    "def get_restaurants(api_key,location,number=15):\n",
    "    import requests\n",
    "    \n",
    "     #Set up the search data dictionary. This contains the search parameters\n",
    "    search_data = {\n",
    "    'term': \"restaurant\",\n",
    "    'location': location.replace(' ', '+'),\n",
    "    'limit': number\n",
    "    }\n",
    "    \n",
    "    #Create the API url\n",
    "    url = API_HOST + SEARCH_PATH\n",
    "    \n",
    "    #The API Key data object\n",
    "    headers = {\n",
    "        'Authorization': 'Bearer %s' % api_key,\n",
    "    }\n",
    "    \n",
    "    #Get the response object and convert from JSON into a python list\n",
    "    response = requests.request('GET', url, headers=headers, params=search_data).json()\n",
    "    #print(response)\n",
    "    \n",
    "    #Extract the businesses from the response object\n",
    "    businesses = response.get('businesses')\n",
    "    \n",
    "    #Extract the business id and business name for each business into a list\n",
    "    return_data = [(business['id'],business['name']) for business in businesses]\n",
    "    return return_data\n",
    "\n",
    "get_restaurants(yelp_api_key,\"Princeton\",15)\n",
    "\n",
    "#Let's choose the restaurant: Tacoria mC0Oir4IMjMSzJGORIW6pw"
   ]
  },
  {
   "cell_type": "code",
   "execution_count": 13,
   "id": "2db70110",
   "metadata": {},
   "outputs": [],
   "source": [
    "taco = \"mC0Oir4IMjMSzJGORIW6pw\""
   ]
  },
  {
   "cell_type": "code",
   "execution_count": 17,
   "id": "811504f9",
   "metadata": {},
   "outputs": [
    {
     "data": {
      "text/plain": [
       "\"Fresh ingredients and a flavorful adventure is how I describe Tacoria.  \\nThe staff is always helpful and patient.  \\nI usually take out.What a disappointment! Are of the people there on downers? They all seem to have flatlined. No emotion, no affect. It's not like they could be tired from...Burritos here are sheer perfection. Stuffed with tasty meats, fresh veggies, cheese, and rice. It's bursting with flavor.  The warm toasted tortilla just...\""
      ]
     },
     "execution_count": 17,
     "metadata": {},
     "output_type": "execute_result"
    }
   ],
   "source": [
    "def get_business_review(api_key,business_id):\n",
    "    import requests\n",
    "    \n",
    "    #API path\n",
    "    business_path = BUSINESS_PATH + business_id+\"/reviews\"\n",
    "    \n",
    "    #API url\n",
    "    url = API_HOST + business_path\n",
    "\n",
    "    #API Key data object\n",
    "    headers = {\n",
    "        'Authorization': 'Bearer %s' % api_key,\n",
    "    }\n",
    "\n",
    "    #Get the response and convert from json into a python object\n",
    "    response = requests.request('GET', url, headers=headers).json()\n",
    "    #print(response)\n",
    "    \n",
    "    #Yelp gives review snippets of a few reviews, concatenate these into a single string\n",
    "    review_text = ''\n",
    "    for review in response['reviews']:\n",
    "        review_text += review['text']\n",
    "    return review_text\n",
    "\n",
    "review = get_business_review(yelp_api_key,taco)\n",
    "review"
   ]
  },
  {
   "cell_type": "code",
   "execution_count": 26,
   "id": "65ab9fbd",
   "metadata": {},
   "outputs": [
    {
     "data": {
      "text/plain": [
       "\"Fresh ingredients and a flavorful adventure is how I describe Tacoria.  \\nThe staff is always helpful and patient.  \\nI usually take out.What a disappointment! Are of the people there on downers? They all seem to have flatlined. No emotion, no affect. It's not like they could be tired from...Burritos here are sheer perfection. Stuffed with tasty meats, fresh veggies, cheese, and rice. It's bursting with flavor.  The warm toasted tortilla just...\""
      ]
     },
     "execution_count": 26,
     "metadata": {},
     "output_type": "execute_result"
    }
   ],
   "source": [
    "review"
   ]
  },
  {
   "cell_type": "code",
   "execution_count": null,
   "id": "648efa1e",
   "metadata": {},
   "outputs": [],
   "source": []
  },
  {
   "cell_type": "markdown",
   "id": "e1584939",
   "metadata": {},
   "source": [
    "<h1> Webscraping </h1>"
   ]
  },
  {
   "cell_type": "code",
   "execution_count": 41,
   "id": "11dbd843",
   "metadata": {},
   "outputs": [],
   "source": [
    "from bs4 import BeautifulSoup\n",
    "import requests\n",
    "import re"
   ]
  },
  {
   "cell_type": "code",
   "execution_count": 105,
   "id": "9c2716fe",
   "metadata": {
    "scrolled": true
   },
   "outputs": [],
   "source": [
    "web = str(requests.get(\"https://www.yelp.com/biz/tacoria-new-brunswick#reviews\").content)\n",
    "#replace comments with a GET THIS tag\n",
    "\n",
    "soup = BeautifulSoup(web)\n",
    "p_list = soup.find(\"div\", {\"id\": \"reviews\"}).find_all(\"span\", {\"lang\":\"en\"})"
   ]
  },
  {
   "cell_type": "code",
   "execution_count": 104,
   "id": "2c65e442",
   "metadata": {
    "scrolled": true
   },
   "outputs": [
    {
     "data": {
      "text/plain": [
       "['My Fave! Love it all. The food is always amazing.Delivery is always fast. Portions are huge.',\n",
       " \"The wait line during rush hour, quantity, and prices do not justify the hype this place gets! Went to Tacoria with a friend for dinner around 7:45 and we waited 20 minutes just to get our order, which for me was just one taco! They seemed to prioritize delivery orders and despite it being rush hour, I was frustrated how long I had to wait for my order. Each taco is $4, which for the quality and taste wasn't worth it. However, even for a small taco, there were a lot of chicken pieces, which I appreciated! The cilantro and cotija cheese tasted delicious together. Once you go inside the restaurant, there's a beautiful backdrop, gardeny type of vibes so it's nice to sit there, talk with friends, and eat. Ordered: October 11, 2022 via Dining-In\",\n",
       " \"Some of the best tacos I've ever had!Tacoria is a quick walk from the hospital and a popular lunch spot so you'll likely have to wait in line around then. The line moves quickly though and your food comes out quickly as well!I tried the pulled chicken tacos which, were incredibly flavorful with lots of garlic and lime. Guac is a must add. I also appreciate that the tortilla isn't doubled and not super thick. Can't wait to go back and try more items on the menu!\",\n",
       " 'Seating are is dope and the food is good asfuck. The manager complimented my brother on his shoes which is crazy cause he waers these ugly ass hookas. I listed below ive never seem shoes this motherfucink ugly. Burrito was really good 5/5',\n",
       " 'Cutest indoor vibes!! They have this indoor outdoor seating and in the winter they close it up so its still useable! Honestly the food was basic for vegan options but definitely felt really fresh. The chips were sooo crisp and perfectly salted. Guac was fresh and limey and the tacos/ burrito were nice too. Would definitely return but they are a little pricey for the most basic options..',\n",
       " \"TLDR: A pretty consistent spot similar to Chipotle but at least a few steps better. I'll continue getting the nachos and bowls when Im in the area.My girlfriend and I shared the full order of the carne asada nachos. The dish is loaded with layers of melted cheese, crema, mole, tender chunks of beef, beans, fat slices of jalape\\\\xc3\\\\xb1o, and strangely enough carrots. Two points set these nachos apart for me: the toppings are layered, and the chips are fried extra crisp - they hold up against the toppings!This was a great meal to share. Ive tried a number of other items as well. Most of the foods are similar to chipotle, but slightly better quality. It is a little more expensive though.Tip: in the New Brunswick spot the back of the restaurant opens up into a fun greenhouse-like seating area\",\n",
       " \"YUM. One of the better burrito's I've had in a while!I had the corn and a steak burrito. The corn was fresh, not too overcooked, and flavored well. The Spicy Aioli that was on it could've been a bit more spicy, but had great flavor. For the burrito, I enjoyed the fact that they used a flavored mexican rice vs. plain white/brown rice. It really gave the burrito more flavor overall. The steak was perfectly cooked and tender, and their guac was also well flavored. I also liked that they grilled the burrito as it added a nice texture.Their chips are the thicker deep fried chips which aren't usually my favorite, as they tend to be greasier.\",\n",
       " 'One of our fav places in Princeton!Yummy food, right portion size and super tasty salsas to top on your food. Last visit, just before dinning in, we found out the place is BYOB. So we carried one of fav wines. Quick yet nice dine out!',\n",
       " \"Great fast casual Mexican place in town with fresh ingredients. Can't always guarantee there will be space to sit so probably best if you get it to go.I got their salad and love their little pineapple sauce dressing of sorts, so unique and refreshing. Also, you wouldn't believe it but the Brussels sprouts are to die for.Overall, great quick lunch place for a filling meal and a great Princeton staple!\",\n",
       " \"food goes insane. the owner complimented my shoes. the guava and basil beverage is immaculate. i had a burrito this time, but i'll likely get everything on that menu in the future. 5 star.\"]"
      ]
     },
     "execution_count": 104,
     "metadata": {},
     "output_type": "execute_result"
    }
   ],
   "source": [
    "reviews = [p.get_text() for p in p_list]\n",
    "reviews"
   ]
  },
  {
   "cell_type": "code",
   "execution_count": 141,
   "id": "b8d55ced",
   "metadata": {},
   "outputs": [
    {
     "name": "stdout",
     "output_type": "stream",
     "text": [
      "Some of the best tacos I've ever had!Tacoria is a quick walk from the hospital and a popular lunch spot so you'll likely have to wait in line around then. The line moves quickly though and your food comes out quickly as well!I tried the pulled chicken tacos which, were incredibly flavorful with lots of garlic and lime. Guac is a must add. I also appreciate that the tortilla isn't doubled and not super thick. Can't wait to go back and try more items on the menu!\n",
      "\n",
      "some of the best tacos i ve ever had tacoria is a quick walk from the hospital and a popular lunch spot so you ll likely have to wait in line around then  the line moves quickly though and your food comes out quickly as well i tried the pulled chicken tacos which  were incredibly flavorful with lots of garlic and lime  guac is a must add  i also appreciate that the tortilla isn t doubled and not super thick  can t wait to go back and try more items on the menu \n"
     ]
    }
   ],
   "source": [
    "#consider a single review, positive\n",
    "r = reviews[2]\n",
    "cleaned_r = (re.sub(\"[.!?,']\", \" \", r)).lower()\n",
    "\n",
    "print(r)\n",
    "print()\n",
    "print(cleaned_r)"
   ]
  },
  {
   "cell_type": "code",
   "execution_count": 145,
   "id": "64baed6e",
   "metadata": {
    "scrolled": true
   },
   "outputs": [
    {
     "data": {
      "text/plain": [
       "['lunch',\n",
       " 'wait',\n",
       " 'walk',\n",
       " 'incredibly',\n",
       " 'quick',\n",
       " 'try',\n",
       " 'guac',\n",
       " 'spot',\n",
       " 'add',\n",
       " 'tacos',\n",
       " 'thick',\n",
       " 'lots',\n",
       " 'back',\n",
       " 'ever',\n",
       " 'go',\n",
       " 'tacoria',\n",
       " 'items',\n",
       " 'chicken',\n",
       " 'must',\n",
       " 'comes',\n",
       " 'tried',\n",
       " 'around',\n",
       " 'menu',\n",
       " 'also',\n",
       " 'popular',\n",
       " 'garlic',\n",
       " 'though',\n",
       " 'well',\n",
       " 'tortilla',\n",
       " 'doubled',\n",
       " 'quickly',\n",
       " 'pulled',\n",
       " 'line',\n",
       " 'likely',\n",
       " 'appreciate',\n",
       " 'moves',\n",
       " 'food',\n",
       " 'flavorful',\n",
       " 'lime',\n",
       " 'hospital',\n",
       " 'super',\n",
       " 'best']"
      ]
     },
     "execution_count": 145,
     "metadata": {},
     "output_type": "execute_result"
    }
   ],
   "source": [
    "from nltk.corpus import stopwords\n",
    "tok = [w for w in set(nltk.word_tokenize(cleaned_r)) if w not in stopwords.words('english') and w.isalpha()]\n",
    "tok"
   ]
  },
  {
   "cell_type": "code",
   "execution_count": 148,
   "id": "778c01dc",
   "metadata": {
    "scrolled": true
   },
   "outputs": [
    {
     "data": {
      "text/plain": [
       "[('lunch', 'NN'),\n",
       " ('wait', 'NN'),\n",
       " ('walk', 'NN'),\n",
       " ('incredibly', 'RB'),\n",
       " ('quick', 'JJ'),\n",
       " ('try', 'NN'),\n",
       " ('guac', 'NN'),\n",
       " ('spot', 'NN'),\n",
       " ('add', 'VBP'),\n",
       " ('tacos', 'JJ'),\n",
       " ('thick', 'JJ'),\n",
       " ('lots', 'NNS'),\n",
       " ('back', 'RB'),\n",
       " ('ever', 'RB'),\n",
       " ('go', 'VBP'),\n",
       " ('tacoria', 'JJ'),\n",
       " ('items', 'NNS'),\n",
       " ('chicken', 'VBN'),\n",
       " ('must', 'MD'),\n",
       " ('comes', 'VBZ'),\n",
       " ('tried', 'JJ'),\n",
       " ('around', 'IN'),\n",
       " ('menu', 'NN'),\n",
       " ('also', 'RB'),\n",
       " ('popular', 'JJ'),\n",
       " ('garlic', 'NN'),\n",
       " ('though', 'RB'),\n",
       " ('well', 'RB'),\n",
       " ('tortilla', 'NN'),\n",
       " ('doubled', 'VBD'),\n",
       " ('quickly', 'RB'),\n",
       " ('pulled', 'VBN'),\n",
       " ('line', 'NN'),\n",
       " ('likely', 'JJ'),\n",
       " ('appreciate', 'NN'),\n",
       " ('moves', 'NNS'),\n",
       " ('food', 'NN'),\n",
       " ('flavorful', 'JJ'),\n",
       " ('lime', 'JJ'),\n",
       " ('hospital', 'NN'),\n",
       " ('super', 'NN'),\n",
       " ('best', 'JJS')]"
      ]
     },
     "execution_count": 148,
     "metadata": {},
     "output_type": "execute_result"
    }
   ],
   "source": [
    "#get nouns and adjectives\n",
    "pos = nltk.pos_tag(tok)\n",
    "pos\n"
   ]
  },
  {
   "cell_type": "code",
   "execution_count": 153,
   "id": "9878968e",
   "metadata": {},
   "outputs": [],
   "source": [
    "nouns = [n[0] for n in pos if n[1] == 'NN' or n[1] == 'NNS']\n",
    "adjs = [n[0] for n in pos if n[1] == 'JJ' or n[1] == 'JJS']"
   ]
  },
  {
   "cell_type": "code",
   "execution_count": 156,
   "id": "f40a27c4",
   "metadata": {},
   "outputs": [
    {
     "data": {
      "text/plain": [
       "(['lunch',\n",
       "  'wait',\n",
       "  'walk',\n",
       "  'try',\n",
       "  'guac',\n",
       "  'spot',\n",
       "  'lots',\n",
       "  'items',\n",
       "  'menu',\n",
       "  'garlic',\n",
       "  'tortilla',\n",
       "  'line',\n",
       "  'appreciate',\n",
       "  'moves',\n",
       "  'food',\n",
       "  'hospital',\n",
       "  'super'],\n",
       " ['quick',\n",
       "  'tacos',\n",
       "  'thick',\n",
       "  'tacoria',\n",
       "  'tried',\n",
       "  'popular',\n",
       "  'likely',\n",
       "  'flavorful',\n",
       "  'lime',\n",
       "  'best'])"
      ]
     },
     "execution_count": 156,
     "metadata": {},
     "output_type": "execute_result"
    }
   ],
   "source": [
    "nouns, adjs"
   ]
  },
  {
   "cell_type": "code",
   "execution_count": 179,
   "id": "edd6a2b0",
   "metadata": {},
   "outputs": [
    {
     "name": "stdout",
     "output_type": "stream",
     "text": [
      "['tortilla', 'hospital', 'spot']\n",
      "['best', 'likely', 'popular']\n"
     ]
    }
   ],
   "source": [
    "#Choose some keywords to describe the place:\n",
    "\n",
    "#3 nouns\n",
    "n_samp = random.sample(nouns, 3)\n",
    "#3 adjs\n",
    "a_samp = random.sample(adjs, 3)\n",
    "print(n_samp)\n",
    "print(a_samp)"
   ]
  },
  {
   "cell_type": "code",
   "execution_count": 171,
   "id": "e388ad94",
   "metadata": {},
   "outputs": [],
   "source": [
    "def spit(arr):\n",
    "    out = \"\"\n",
    "    for string in arr:\n",
    "        out += string + \" \"\n",
    "    return out"
   ]
  },
  {
   "cell_type": "code",
   "execution_count": 172,
   "id": "9549fbe6",
   "metadata": {},
   "outputs": [],
   "source": [
    "restuarant_name = \"Tacoria\""
   ]
  },
  {
   "cell_type": "code",
   "execution_count": 173,
   "id": "675afd45",
   "metadata": {},
   "outputs": [],
   "source": [
    "import os\n",
    "\n",
    "import openai\n",
    "openai.api_key = mysecrets.key\n",
    "\n",
    "def get_res(p):\n",
    "    obj = openai.Completion.create(\n",
    "            model=\"text-davinci-003\",\n",
    "            prompt=p,\n",
    "            temperature=0.1,\n",
    "            max_tokens=1000\n",
    "        )\n",
    "    \n",
    "    return obj[\"choices\"][0][\"text\"].replace(\"\\n\", \"\")\n"
   ]
  },
  {
   "cell_type": "code",
   "execution_count": 183,
   "id": "9bf519bc",
   "metadata": {},
   "outputs": [],
   "source": [
    "prompt = \"Make a positive review about the restaurant \" + restuarant_name + \". Use the keywords: \" \\\n",
    "+ spit(n_samp) + spit(a_samp)\n"
   ]
  },
  {
   "cell_type": "code",
   "execution_count": 184,
   "id": "b3549796",
   "metadata": {},
   "outputs": [
    {
     "data": {
      "text/plain": [
       "\"Tacoria is one of the best tortilla hospital spots I've ever been to! The food is always fresh and delicious, and the atmosphere is always lively and inviting. The staff is friendly and helpful, and the prices are very reasonable. It's no wonder why Tacoria is so popular - it's likely the best Mexican restaurant in town!\""
      ]
     },
     "execution_count": 184,
     "metadata": {},
     "output_type": "execute_result"
    }
   ],
   "source": [
    "get_res(prompt)"
   ]
  },
  {
   "cell_type": "code",
   "execution_count": null,
   "id": "58e91d99",
   "metadata": {},
   "outputs": [],
   "source": []
  },
  {
   "cell_type": "code",
   "execution_count": 10,
   "id": "457d8703",
   "metadata": {},
   "outputs": [
    {
     "data": {
      "text/plain": [
       "'I had the most delicious meal at this restaurant! The food was cooked to perfection and the flavors were amazing. I would highly recommend this place to anyone looking for a great meal.'"
      ]
     },
     "execution_count": 10,
     "metadata": {},
     "output_type": "execute_result"
    }
   ],
   "source": [
    "prompt = \"Make a positive review. Use the word: delicious\"\n",
    "get_res(prompt)"
   ]
  },
  {
   "cell_type": "code",
   "execution_count": null,
   "id": "ea5e7975",
   "metadata": {},
   "outputs": [],
   "source": []
  }
 ],
 "metadata": {
  "kernelspec": {
   "display_name": "Python 3 (ipykernel)",
   "language": "python",
   "name": "python3"
  },
  "language_info": {
   "codemirror_mode": {
    "name": "ipython",
    "version": 3
   },
   "file_extension": ".py",
   "mimetype": "text/x-python",
   "name": "python",
   "nbconvert_exporter": "python",
   "pygments_lexer": "ipython3",
   "version": "3.9.13"
  }
 },
 "nbformat": 4,
 "nbformat_minor": 5
}
